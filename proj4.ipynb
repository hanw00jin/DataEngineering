{
 "cells": [
  {
   "cell_type": "code",
   "execution_count": 3,
   "id": "2e84bc74-5a67-46db-8989-8169a6fced56",
   "metadata": {},
   "outputs": [
    {
     "name": "stdout",
     "output_type": "stream",
     "text": [
      "당신의 조선시대 이름은 한복자 입니다.\n"
     ]
    }
   ],
   "source": [
    "def get_my_chosun_name(family_name, month, day):\n",
    "    month_list = ['','쌍', '쇠', '복', '돌', '팽', '육', '쌍', '개', '칠', '갑', '삼', '방']\n",
    "    day_list = ['','봉', '구', '욕', '포', '똥', '삼', '식', '석', '놈', '님', '년', '돌', '단', '득', '방', '질', '장', '걸', '래', '룡', '동', '순', '자', '박', '창', '언', '것', '포', '만', '단', '국']\n",
    "    return family_name + month_list[month] + day_list[day]\n",
    "\n",
    "name = get_my_chosun_name('한',3,23)\n",
    "print(\"당신의 조선시대 이름은 %s 입니다.\" % (name))"
   ]
  },
  {
   "cell_type": "code",
   "execution_count": null,
   "id": "dd7832b8-bfbb-4b78-bc24-cf660a4b6a44",
   "metadata": {},
   "outputs": [],
   "source": []
  }
 ],
 "metadata": {
  "kernelspec": {
   "display_name": "Python 3 (ipykernel)",
   "language": "python",
   "name": "python3"
  },
  "language_info": {
   "codemirror_mode": {
    "name": "ipython",
    "version": 3
   },
   "file_extension": ".py",
   "mimetype": "text/x-python",
   "name": "python",
   "nbconvert_exporter": "python",
   "pygments_lexer": "ipython3",
   "version": "3.9.12"
  }
 },
 "nbformat": 4,
 "nbformat_minor": 5
}
